{
 "cells": [
  {
   "cell_type": "code",
   "execution_count": 1,
   "metadata": {},
   "outputs": [],
   "source": [
    "from collections import Counter\n",
    "import pandas as pd"
   ]
  },
  {
   "cell_type": "code",
   "execution_count": 2,
   "metadata": {},
   "outputs": [],
   "source": [
    "ROOT_DATA_PATH = '../data/snli_1.0'"
   ]
  },
  {
   "cell_type": "code",
   "execution_count": 28,
   "metadata": {},
   "outputs": [],
   "source": [
    "def get_max_annotation_count(x):\n",
    "    \n",
    "    counter = Counter(x.annotator_labels)\n",
    "    return counter.most_common(1)[0][1]\n",
    "\n",
    "\n",
    "def get_ambiguity_level(x):\n",
    "\n",
    "    max_count = get_max_annotation_count(x)\n",
    "\n",
    "    if max_count == 5:\n",
    "        return 0\n",
    "    elif max_count == 4:\n",
    "        return 1\n",
    "    elif max_count == 3:\n",
    "        return 2\n",
    "    else:\n",
    "        return -1"
   ]
  },
  {
   "cell_type": "markdown",
   "metadata": {},
   "source": [
    "#### Load the `dev` data"
   ]
  },
  {
   "cell_type": "code",
   "execution_count": 11,
   "metadata": {},
   "outputs": [],
   "source": [
    "dev_snli_df = pd.read_json(f'{ROOT_DATA_PATH}/snli_1.0_dev.jsonl', lines=True)"
   ]
  },
  {
   "cell_type": "code",
   "execution_count": 12,
   "metadata": {},
   "outputs": [
    {
     "data": {
      "text/html": [
       "<div>\n",
       "<style scoped>\n",
       "    .dataframe tbody tr th:only-of-type {\n",
       "        vertical-align: middle;\n",
       "    }\n",
       "\n",
       "    .dataframe tbody tr th {\n",
       "        vertical-align: top;\n",
       "    }\n",
       "\n",
       "    .dataframe thead th {\n",
       "        text-align: right;\n",
       "    }\n",
       "</style>\n",
       "<table border=\"1\" class=\"dataframe\">\n",
       "  <thead>\n",
       "    <tr style=\"text-align: right;\">\n",
       "      <th></th>\n",
       "      <th>annotator_labels</th>\n",
       "      <th>captionID</th>\n",
       "      <th>gold_label</th>\n",
       "      <th>pairID</th>\n",
       "      <th>sentence1</th>\n",
       "      <th>sentence1_binary_parse</th>\n",
       "      <th>sentence1_parse</th>\n",
       "      <th>sentence2</th>\n",
       "      <th>sentence2_binary_parse</th>\n",
       "      <th>sentence2_parse</th>\n",
       "    </tr>\n",
       "  </thead>\n",
       "  <tbody>\n",
       "    <tr>\n",
       "      <th>0</th>\n",
       "      <td>[neutral, entailment, neutral, neutral, neutral]</td>\n",
       "      <td>4705552913.jpg#2</td>\n",
       "      <td>neutral</td>\n",
       "      <td>4705552913.jpg#2r1n</td>\n",
       "      <td>Two women are embracing while holding to go pa...</td>\n",
       "      <td>( ( Two women ) ( ( are ( embracing ( while ( ...</td>\n",
       "      <td>(ROOT (S (NP (CD Two) (NNS women)) (VP (VBP ar...</td>\n",
       "      <td>The sisters are hugging goodbye while holding ...</td>\n",
       "      <td>( ( The sisters ) ( ( are ( ( hugging goodbye ...</td>\n",
       "      <td>(ROOT (S (NP (DT The) (NNS sisters)) (VP (VBP ...</td>\n",
       "    </tr>\n",
       "    <tr>\n",
       "      <th>1</th>\n",
       "      <td>[entailment, entailment, entailment, entailmen...</td>\n",
       "      <td>4705552913.jpg#2</td>\n",
       "      <td>entailment</td>\n",
       "      <td>4705552913.jpg#2r1e</td>\n",
       "      <td>Two women are embracing while holding to go pa...</td>\n",
       "      <td>( ( Two women ) ( ( are ( embracing ( while ( ...</td>\n",
       "      <td>(ROOT (S (NP (CD Two) (NNS women)) (VP (VBP ar...</td>\n",
       "      <td>Two woman are holding packages.</td>\n",
       "      <td>( ( Two woman ) ( ( are ( holding packages ) )...</td>\n",
       "      <td>(ROOT (S (NP (CD Two) (NN woman)) (VP (VBP are...</td>\n",
       "    </tr>\n",
       "    <tr>\n",
       "      <th>2</th>\n",
       "      <td>[contradiction, contradiction, contradiction, ...</td>\n",
       "      <td>4705552913.jpg#2</td>\n",
       "      <td>contradiction</td>\n",
       "      <td>4705552913.jpg#2r1c</td>\n",
       "      <td>Two women are embracing while holding to go pa...</td>\n",
       "      <td>( ( Two women ) ( ( are ( embracing ( while ( ...</td>\n",
       "      <td>(ROOT (S (NP (CD Two) (NNS women)) (VP (VBP ar...</td>\n",
       "      <td>The men are fighting outside a deli.</td>\n",
       "      <td>( ( The men ) ( ( are ( fighting ( outside ( a...</td>\n",
       "      <td>(ROOT (S (NP (DT The) (NNS men)) (VP (VBP are)...</td>\n",
       "    </tr>\n",
       "    <tr>\n",
       "      <th>3</th>\n",
       "      <td>[entailment, entailment, entailment, entailmen...</td>\n",
       "      <td>2407214681.jpg#0</td>\n",
       "      <td>entailment</td>\n",
       "      <td>2407214681.jpg#0r1e</td>\n",
       "      <td>Two young children in blue jerseys, one with t...</td>\n",
       "      <td>( ( ( Two ( young children ) ) ( in ( ( ( ( ( ...</td>\n",
       "      <td>(ROOT (S (NP (NP (CD Two) (JJ young) (NNS chil...</td>\n",
       "      <td>Two kids in numbered jerseys wash their hands.</td>\n",
       "      <td>( ( ( Two kids ) ( in ( numbered jerseys ) ) )...</td>\n",
       "      <td>(ROOT (S (NP (NP (CD Two) (NNS kids)) (PP (IN ...</td>\n",
       "    </tr>\n",
       "    <tr>\n",
       "      <th>4</th>\n",
       "      <td>[neutral, neutral, neutral, entailment, entail...</td>\n",
       "      <td>2407214681.jpg#0</td>\n",
       "      <td>neutral</td>\n",
       "      <td>2407214681.jpg#0r1n</td>\n",
       "      <td>Two young children in blue jerseys, one with t...</td>\n",
       "      <td>( ( ( Two ( young children ) ) ( in ( ( ( ( ( ...</td>\n",
       "      <td>(ROOT (S (NP (NP (CD Two) (JJ young) (NNS chil...</td>\n",
       "      <td>Two kids at a ballgame wash their hands.</td>\n",
       "      <td>( ( ( Two kids ) ( at ( a ballgame ) ) ) ( ( w...</td>\n",
       "      <td>(ROOT (S (NP (NP (CD Two) (NNS kids)) (PP (IN ...</td>\n",
       "    </tr>\n",
       "  </tbody>\n",
       "</table>\n",
       "</div>"
      ],
      "text/plain": [
       "                                    annotator_labels         captionID  \\\n",
       "0   [neutral, entailment, neutral, neutral, neutral]  4705552913.jpg#2   \n",
       "1  [entailment, entailment, entailment, entailmen...  4705552913.jpg#2   \n",
       "2  [contradiction, contradiction, contradiction, ...  4705552913.jpg#2   \n",
       "3  [entailment, entailment, entailment, entailmen...  2407214681.jpg#0   \n",
       "4  [neutral, neutral, neutral, entailment, entail...  2407214681.jpg#0   \n",
       "\n",
       "      gold_label               pairID  \\\n",
       "0        neutral  4705552913.jpg#2r1n   \n",
       "1     entailment  4705552913.jpg#2r1e   \n",
       "2  contradiction  4705552913.jpg#2r1c   \n",
       "3     entailment  2407214681.jpg#0r1e   \n",
       "4        neutral  2407214681.jpg#0r1n   \n",
       "\n",
       "                                           sentence1  \\\n",
       "0  Two women are embracing while holding to go pa...   \n",
       "1  Two women are embracing while holding to go pa...   \n",
       "2  Two women are embracing while holding to go pa...   \n",
       "3  Two young children in blue jerseys, one with t...   \n",
       "4  Two young children in blue jerseys, one with t...   \n",
       "\n",
       "                              sentence1_binary_parse  \\\n",
       "0  ( ( Two women ) ( ( are ( embracing ( while ( ...   \n",
       "1  ( ( Two women ) ( ( are ( embracing ( while ( ...   \n",
       "2  ( ( Two women ) ( ( are ( embracing ( while ( ...   \n",
       "3  ( ( ( Two ( young children ) ) ( in ( ( ( ( ( ...   \n",
       "4  ( ( ( Two ( young children ) ) ( in ( ( ( ( ( ...   \n",
       "\n",
       "                                     sentence1_parse  \\\n",
       "0  (ROOT (S (NP (CD Two) (NNS women)) (VP (VBP ar...   \n",
       "1  (ROOT (S (NP (CD Two) (NNS women)) (VP (VBP ar...   \n",
       "2  (ROOT (S (NP (CD Two) (NNS women)) (VP (VBP ar...   \n",
       "3  (ROOT (S (NP (NP (CD Two) (JJ young) (NNS chil...   \n",
       "4  (ROOT (S (NP (NP (CD Two) (JJ young) (NNS chil...   \n",
       "\n",
       "                                           sentence2  \\\n",
       "0  The sisters are hugging goodbye while holding ...   \n",
       "1                    Two woman are holding packages.   \n",
       "2               The men are fighting outside a deli.   \n",
       "3     Two kids in numbered jerseys wash their hands.   \n",
       "4           Two kids at a ballgame wash their hands.   \n",
       "\n",
       "                              sentence2_binary_parse  \\\n",
       "0  ( ( The sisters ) ( ( are ( ( hugging goodbye ...   \n",
       "1  ( ( Two woman ) ( ( are ( holding packages ) )...   \n",
       "2  ( ( The men ) ( ( are ( fighting ( outside ( a...   \n",
       "3  ( ( ( Two kids ) ( in ( numbered jerseys ) ) )...   \n",
       "4  ( ( ( Two kids ) ( at ( a ballgame ) ) ) ( ( w...   \n",
       "\n",
       "                                     sentence2_parse  \n",
       "0  (ROOT (S (NP (DT The) (NNS sisters)) (VP (VBP ...  \n",
       "1  (ROOT (S (NP (CD Two) (NN woman)) (VP (VBP are...  \n",
       "2  (ROOT (S (NP (DT The) (NNS men)) (VP (VBP are)...  \n",
       "3  (ROOT (S (NP (NP (CD Two) (NNS kids)) (PP (IN ...  \n",
       "4  (ROOT (S (NP (NP (CD Two) (NNS kids)) (PP (IN ...  "
      ]
     },
     "execution_count": 12,
     "metadata": {},
     "output_type": "execute_result"
    }
   ],
   "source": [
    "dev_snli_df.head(5)"
   ]
  },
  {
   "cell_type": "code",
   "execution_count": 29,
   "metadata": {},
   "outputs": [],
   "source": [
    "dev_snli_df['ambiguity_level'] = dev_snli_df.apply(lambda x: get_ambiguity_level(x), axis=1)"
   ]
  },
  {
   "cell_type": "code",
   "execution_count": 32,
   "metadata": {},
   "outputs": [
    {
     "data": {
      "text/plain": [
       "ambiguity_level\n",
       "-1     158\n",
       " 0    5479\n",
       " 1    2849\n",
       " 2    1514\n",
       "Name: ambiguity_level, dtype: int64"
      ]
     },
     "execution_count": 32,
     "metadata": {},
     "output_type": "execute_result"
    }
   ],
   "source": [
    "dev_snli_df.groupby('ambiguity_level')['ambiguity_level'].count()"
   ]
  },
  {
   "cell_type": "markdown",
   "metadata": {},
   "source": [
    "#### Let's look at some of the highly ambiguous examples"
   ]
  },
  {
   "cell_type": "code",
   "execution_count": 36,
   "metadata": {},
   "outputs": [
    {
     "data": {
      "text/html": [
       "<style type=\"text/css\">\n",
       "#T_3c0a6_row0_col0, #T_3c0a6_row0_col1, #T_3c0a6_row1_col0, #T_3c0a6_row1_col1, #T_3c0a6_row2_col0, #T_3c0a6_row2_col1, #T_3c0a6_row3_col0, #T_3c0a6_row3_col1, #T_3c0a6_row4_col0, #T_3c0a6_row4_col1 {\n",
       "  width: 500px;\n",
       "}\n",
       "</style>\n",
       "<table id=\"T_3c0a6_\">\n",
       "  <thead>\n",
       "    <tr>\n",
       "      <th class=\"blank level0\" >&nbsp;</th>\n",
       "      <th class=\"col_heading level0 col0\" >sentence1</th>\n",
       "      <th class=\"col_heading level0 col1\" >sentence2</th>\n",
       "    </tr>\n",
       "  </thead>\n",
       "  <tbody>\n",
       "    <tr>\n",
       "      <th id=\"T_3c0a6_level0_row0\" class=\"row_heading level0 row0\" >4</th>\n",
       "      <td id=\"T_3c0a6_row0_col0\" class=\"data row0 col0\" >Two young children in blue jerseys, one with the number 9 and one with the number 2 are standing on wooden steps in a bathroom and washing their hands in a sink.</td>\n",
       "      <td id=\"T_3c0a6_row0_col1\" class=\"data row0 col1\" >Two kids at a ballgame wash their hands.</td>\n",
       "    </tr>\n",
       "    <tr>\n",
       "      <th id=\"T_3c0a6_level0_row1\" class=\"row_heading level0 row1\" >7</th>\n",
       "      <td id=\"T_3c0a6_row1_col0\" class=\"data row1 col0\" >A man selling donuts to a customer during a world exhibition event held in the city of Angeles</td>\n",
       "      <td id=\"T_3c0a6_row1_col1\" class=\"data row1 col1\" >A man selling donuts to a customer during a world exhibition event while people wait in line behind him.</td>\n",
       "    </tr>\n",
       "    <tr>\n",
       "      <th id=\"T_3c0a6_level0_row2\" class=\"row_heading level0 row2\" >9</th>\n",
       "      <td id=\"T_3c0a6_row2_col0\" class=\"data row2 col0\" >Two young boys of opposing teams play football, while wearing full protection uniforms and helmets.</td>\n",
       "      <td id=\"T_3c0a6_row2_col1\" class=\"data row2 col1\" >boys play football</td>\n",
       "    </tr>\n",
       "    <tr>\n",
       "      <th id=\"T_3c0a6_level0_row3\" class=\"row_heading level0 row3\" >13</th>\n",
       "      <td id=\"T_3c0a6_row3_col0\" class=\"data row3 col0\" >A man in a blue shirt standing in front of a garage-like structure painted with geometric designs.</td>\n",
       "      <td id=\"T_3c0a6_row3_col1\" class=\"data row3 col1\" >A man is wearing a blue shirt</td>\n",
       "    </tr>\n",
       "    <tr>\n",
       "      <th id=\"T_3c0a6_level0_row4\" class=\"row_heading level0 row4\" >15</th>\n",
       "      <td id=\"T_3c0a6_row4_col0\" class=\"data row4 col0\" >Under a blue sky with white clouds, a child reaches up to touch the propeller of a plane standing parked on a field of grass.</td>\n",
       "      <td id=\"T_3c0a6_row4_col1\" class=\"data row4 col1\" >A child is reaching to touch the propeller of a plane.</td>\n",
       "    </tr>\n",
       "  </tbody>\n",
       "</table>\n"
      ],
      "text/plain": [
       "<pandas.io.formats.style.Styler at 0x7fe1c4b36c50>"
      ]
     },
     "execution_count": 36,
     "metadata": {},
     "output_type": "execute_result"
    }
   ],
   "source": [
    "(dev_snli_df.query('ambiguity_level == 2')[['sentence1', 'sentence2']]\n",
    "     .head().style.set_properties(**{'width': '500px'}))"
   ]
  },
  {
   "cell_type": "code",
   "execution_count": 38,
   "metadata": {},
   "outputs": [
    {
     "data": {
      "text/plain": [
       "ambiguity_level\n",
       "-1     176\n",
       " 0    5368\n",
       " 1    2874\n",
       " 2    1582\n",
       "Name: ambiguity_level, dtype: int64"
      ]
     },
     "execution_count": 38,
     "metadata": {},
     "output_type": "execute_result"
    }
   ],
   "source": [
    "test_snli_df = pd.read_json(f'{ROOT_DATA_PATH}/snli_1.0_test.jsonl', lines=True)\n",
    "test_snli_df['ambiguity_level'] = test_snli_df.apply(lambda x: get_ambiguity_level(x), axis=1)\n",
    "test_snli_df.groupby('ambiguity_level')['ambiguity_level'].count()"
   ]
  },
  {
   "cell_type": "code",
   "execution_count": null,
   "metadata": {},
   "outputs": [],
   "source": []
  }
 ],
 "metadata": {
  "kernelspec": {
   "display_name": "dsc-395t-nlp-final-project-new",
   "language": "python",
   "name": "dsc-395t-nlp-final-project-new"
  },
  "language_info": {
   "codemirror_mode": {
    "name": "ipython",
    "version": 3
   },
   "file_extension": ".py",
   "mimetype": "text/x-python",
   "name": "python",
   "nbconvert_exporter": "python",
   "pygments_lexer": "ipython3",
   "version": "3.7.15"
  }
 },
 "nbformat": 4,
 "nbformat_minor": 5
}
