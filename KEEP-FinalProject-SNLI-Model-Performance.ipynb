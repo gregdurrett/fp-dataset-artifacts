{
 "cells": [
  {
   "cell_type": "markdown",
   "metadata": {},
   "source": [
    "### Simple notebook that calculates the model performance metrics\n",
    "The three metrcis calculated are:\n",
    "* Accuracy,\n",
    "* Jensen-Shannon divergence, and\n",
    "* Kullback–Leibler divergence"
   ]
  },
  {
   "cell_type": "code",
   "execution_count": 1,
   "metadata": {},
   "outputs": [],
   "source": [
    "import numpy as np\n",
    "import pandas as pd\n",
    "from scipy.spatial.distance import jensenshannon\n",
    "from scipy.stats import entropy"
   ]
  },
  {
   "cell_type": "markdown",
   "metadata": {},
   "source": [
    "### Helper functions"
   ]
  },
  {
   "cell_type": "code",
   "execution_count": 2,
   "metadata": {},
   "outputs": [],
   "source": [
    "# Note: This comes from the ChaosNLI github repository:\n",
    "# https://github.com/easonnie/ChaosNLI/blob/master/distnli/src/evaluation/tools.py#L24\n",
    "def model_label_dist(logits_list):\n",
    "\n",
    "    logits = np.asarray(logits_list)\n",
    "    prob = np.exp(logits_list) / np.sum(np.exp(logits_list))\n",
    "\n",
    "    # numerical stability for KL\n",
    "    for i, value in enumerate(prob):\n",
    "        if np.abs(value) < 1e-15:\n",
    "            prob[i] = 1e-15\n",
    "    \n",
    "    # normalize\n",
    "    prob = prob / np.sum(prob)\n",
    "    assert np.isclose(np.sum(prob), 1)\n",
    "    \n",
    "    return prob\n",
    "\n",
    "\n",
    "def generate_metrics_dict(df):\n",
    "    \n",
    "    return {'acc': len(df.query('label_g == predicted_label'))/len(df),\n",
    "            'jsd': df.jsd.mean(),\n",
    "            'kld': df.kld.mean()}\n",
    "\n",
    "\n",
    "def generate_all_metrics_dict(df):\n",
    "\n",
    "    return {'all': generate_metrics_dict(eval_df),\n",
    "            'no-ambiguity': generate_metrics_dict(eval_df.query('amb_level == 0')),\n",
    "            'medium-ambiguity': generate_metrics_dict(eval_df.query('amb_level == 1')),\n",
    "            'high-ambiguity': generate_metrics_dict(eval_df.query('amb_level == 2'))}\n",
    "\n",
    "\n",
    "def calculate_example_metrics(df):\n",
    "\n",
    "    df['predicted_probs'] = df.apply(lambda x: model_label_dist(x.predicted_scores), axis=1)\n",
    "    df['jsd'] = df.apply(lambda x: jensenshannon(x.label, x.predicted_probs), axis=1)\n",
    "    df['kld'] = df.apply(lambda x: entropy(x.label, x.predicted_probs), axis=1)\n",
    "    df['amb_level'] = df.apply(lambda x: get_ambiguity_level(x), axis=1)\n",
    "\n",
    "    return df\n",
    "\n",
    "\n",
    "def get_ambiguity_level(x):\n",
    "\n",
    "    # this whole thing is a bit klugy, but <shrug> it works since there might be some fp imprecision.\n",
    "    label_count = max(x.label)*5\n",
    "\n",
    "    if label_count > 4.5:\n",
    "        return 0\n",
    "    elif label_count > 3.5:\n",
    "        return 1\n",
    "    else:\n",
    "        return 2"
   ]
  },
  {
   "cell_type": "code",
   "execution_count": 3,
   "metadata": {},
   "outputs": [],
   "source": [
    "BASE_OUTPUT_PATH = '/Users/richardross/workspace/msds/dsc-395t-nlp-final-project/fp-dataset-artifacts/output_new'"
   ]
  },
  {
   "cell_type": "markdown",
   "metadata": {},
   "source": [
    "### Evaluate the baseline performance\n",
    "This model has been trained on the training dataset using gold labels, fine tuned on the dev dataset using gold labels, and evaluated on the test dataset using gold labels."
   ]
  },
  {
   "cell_type": "code",
   "execution_count": 4,
   "metadata": {},
   "outputs": [
    {
     "data": {
      "text/plain": [
       "{'all': {'acc': 0.8748982084690554,\n",
       "  'jsd': 0.2003502430164696,\n",
       "  'kld': 0.8838935015687398},\n",
       " 'no-ambiguity': {'acc': 0.9397097134350577,\n",
       "  'jsd': 0.07225231323663986,\n",
       "  'kld': 0.28704277771898407},\n",
       " 'medium-ambiguity': {'acc': 0.8676419366074538,\n",
       "  'jsd': 0.31293194168363136,\n",
       "  'kld': 1.2630094438199184},\n",
       " 'high-ambiguity': {'acc': 0.6675110829639012,\n",
       "  'jsd': 0.43162080524787133,\n",
       "  'kld': 2.2259035837507875}}"
      ]
     },
     "execution_count": 4,
     "metadata": {},
     "output_type": "execute_result"
    }
   ],
   "source": [
    "eval_df = pd.read_json(f'{BASE_OUTPUT_PATH}/trained_model_snli_baseline/eval_from_train_dev_baseline_on_test_gold_labels/eval_predictions.jsonl', lines=True)\n",
    "eval_df = calculate_example_metrics(eval_df)\n",
    "generate_all_metrics_dict(eval_df)"
   ]
  },
  {
   "cell_type": "markdown",
   "metadata": {},
   "source": [
    "### Evaluate the baseline performance\n",
    "This model has been trained on the training dataset using gold labels, fine tuned on the dev dataset using gold labels, and evaluated on the test dataset using the probability distributions."
   ]
  },
  {
   "cell_type": "code",
   "execution_count": 5,
   "metadata": {},
   "outputs": [
    {
     "data": {
      "text/plain": [
       "{'all': {'acc': 0.8748982084690554,\n",
       "  'jsd': 0.2003502430164696,\n",
       "  'kld': 0.8838935015687398},\n",
       " 'no-ambiguity': {'acc': 0.9397097134350577,\n",
       "  'jsd': 0.07225231323663986,\n",
       "  'kld': 0.28704277771898407},\n",
       " 'medium-ambiguity': {'acc': 0.8676419366074538,\n",
       "  'jsd': 0.31293194168363136,\n",
       "  'kld': 1.2630094438199184},\n",
       " 'high-ambiguity': {'acc': 0.6675110829639012,\n",
       "  'jsd': 0.43162080524787133,\n",
       "  'kld': 2.2259035837507875}}"
      ]
     },
     "execution_count": 5,
     "metadata": {},
     "output_type": "execute_result"
    }
   ],
   "source": [
    "eval_df = pd.read_json(f'{BASE_OUTPUT_PATH}/trained_model_snli_baseline/eval_from_train_dev_baseline_on_test_probs/eval_predictions.jsonl', lines=True)\n",
    "eval_df = calculate_example_metrics(eval_df)\n",
    "generate_all_metrics_dict(eval_df)"
   ]
  },
  {
   "cell_type": "markdown",
   "metadata": {},
   "source": [
    "### Evaluate the baseline performance\n",
    "This model has been trained on the training dataset using gold labels and evaluated on the test dataset using the probability distributions (no fine-tuning)."
   ]
  },
  {
   "cell_type": "code",
   "execution_count": 6,
   "metadata": {},
   "outputs": [
    {
     "data": {
      "text/plain": [
       "{'all': {'acc': 0.8903705211726385,\n",
       "  'jsd': 0.1938702996261007,\n",
       "  'kld': 0.3650240844393278},\n",
       " 'no-ambiguity': {'acc': 0.9534797171566803,\n",
       "  'jsd': 0.12507782638436302,\n",
       "  'kld': 0.13604502757204934},\n",
       " 'medium-ambiguity': {'acc': 0.8909787530477186,\n",
       "  'jsd': 0.24889274810316228,\n",
       "  'kld': 0.5160997803094306},\n",
       " 'high-ambiguity': {'acc': 0.6744775174160861,\n",
       "  'jsd': 0.327955987798016,\n",
       "  'kld': 0.8696441786519243}}"
      ]
     },
     "execution_count": 6,
     "metadata": {},
     "output_type": "execute_result"
    }
   ],
   "source": [
    "eval_df = pd.read_json(f'{BASE_OUTPUT_PATH}/trained_model_snli_baseline/eval_from_train_on_test_probs/eval_predictions.jsonl', lines=True)\n",
    "eval_df = calculate_example_metrics(eval_df)\n",
    "generate_all_metrics_dict(eval_df)"
   ]
  },
  {
   "cell_type": "markdown",
   "metadata": {},
   "source": [
    "### Evaluate the probability distribution performance\n",
    "This model has been trained on the training dataset using gold labels, fine tuned on the dev dataset using probability distributions, and evaluated on the test dataset using the probability distributions."
   ]
  },
  {
   "cell_type": "code",
   "execution_count": 7,
   "metadata": {},
   "outputs": [
    {
     "data": {
      "text/plain": [
       "{'all': {'acc': 0.8905741042345277,\n",
       "  'jsd': 0.21167255341506863,\n",
       "  'kld': 0.2573941631956475},\n",
       " 'no-ambiguity': {'acc': 0.9542240416821735,\n",
       "  'jsd': 0.18507676339716447,\n",
       "  'kld': 0.1685656369707211},\n",
       " 'medium-ambiguity': {'acc': 0.8861024033437827,\n",
       "  'jsd': 0.2219503197507553,\n",
       "  'kld': 0.2965972979670458},\n",
       " 'high-ambiguity': {'acc': 0.682077264091197,\n",
       "  'jsd': 0.28350175443245973,\n",
       "  'kld': 0.4884342518619364}}"
      ]
     },
     "execution_count": 7,
     "metadata": {},
     "output_type": "execute_result"
    }
   ],
   "source": [
    "eval_df = pd.read_json(f'{BASE_OUTPUT_PATH}/trained_model_snli_baseline/eval_from_train_dev_on_test_probs/eval_predictions.jsonl', lines=True)\n",
    "eval_df = calculate_example_metrics(eval_df)\n",
    "generate_all_metrics_dict(eval_df)"
   ]
  }
 ],
 "metadata": {
  "kernelspec": {
   "display_name": "dsc-395t-nlp-final-project-new",
   "language": "python",
   "name": "dsc-395t-nlp-final-project-new"
  },
  "language_info": {
   "codemirror_mode": {
    "name": "ipython",
    "version": 3
   },
   "file_extension": ".py",
   "mimetype": "text/x-python",
   "name": "python",
   "nbconvert_exporter": "python",
   "pygments_lexer": "ipython3",
   "version": "3.7.15"
  }
 },
 "nbformat": 4,
 "nbformat_minor": 5
}
