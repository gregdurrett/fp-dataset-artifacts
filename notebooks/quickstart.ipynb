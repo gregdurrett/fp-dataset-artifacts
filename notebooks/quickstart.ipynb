{
 "cells": [
  {
   "cell_type": "code",
   "execution_count": 8,
   "id": "5c8239f1",
   "metadata": {},
   "outputs": [],
   "source": [
    "import os\n",
    "import openai\n",
    "\n",
    "from dotenv import load_dotenv\n",
    "\n",
    "load_dotenv()  # take environment variables from .env.\n",
    "# Load your API key from an environment variable or secret management service\n",
    "openai.api_key = os.getenv(\"OPENAI_API_KEY\")"
   ]
  },
  {
   "cell_type": "markdown",
   "id": "6323fe87",
   "metadata": {},
   "source": [
    "# This is a test"
   ]
  },
  {
   "cell_type": "code",
   "execution_count": 10,
   "id": "6b8db5f5",
   "metadata": {},
   "outputs": [],
   "source": [
    "response = openai.Completion.create(engine=\"davinci\", prompt=\"This is a test\", max_tokens=5)"
   ]
  },
  {
   "cell_type": "code",
   "execution_count": 11,
   "id": "d927067a",
   "metadata": {},
   "outputs": [
    {
     "data": {
      "text/plain": [
       "<OpenAIObject text_completion id=cmpl-46DzHw5HxwbBZlSOxzmSTx15h5SST at 0x7f091e764728> JSON: {\n",
       "  \"choices\": [\n",
       "    {\n",
       "      \"finish_reason\": \"length\",\n",
       "      \"index\": 0,\n",
       "      \"logprobs\": null,\n",
       "      \"text\": \" study only. I am\"\n",
       "    }\n",
       "  ],\n",
       "  \"created\": 1637389083,\n",
       "  \"id\": \"cmpl-46DzHw5HxwbBZlSOxzmSTx15h5SST\",\n",
       "  \"model\": \"davinci:2020-05-03\",\n",
       "  \"object\": \"text_completion\"\n",
       "}"
      ]
     },
     "execution_count": 11,
     "metadata": {},
     "output_type": "execute_result"
    }
   ],
   "source": [
    "response"
   ]
  },
  {
   "cell_type": "markdown",
   "id": "1ac48c5b",
   "metadata": {},
   "source": [
    "# Question & Answering"
   ]
  },
  {
   "cell_type": "code",
   "execution_count": 29,
   "id": "9c6358fa",
   "metadata": {},
   "outputs": [
    {
     "data": {
      "text/plain": [
       "'I am a highly intelligent question answering bot. If you ask me a question that is rooted in truth, I will give you the answer. If you ask me a question that is nonsense, trickery, or has no clear answer, I will respond with \"Unknown\".\\n\\nQ: What is human life expectancy in the United States?\\nA: Human life expectancy in the United States is 78 years.\\n\\nQ: Who was president of the United States in 1955?\\nA: Dwight D. Eisenhower was president of the United States in 1955.\\n\\nQ: Which party did he belong to?\\nA: He belonged to the Republican Party.\\n\\nQ: What is the square root of banana?\\nA: Unknown\\n\\nQ: How does a telescope work?\\nA: Telescopes use lenses or mirrors to focus light and make objects appear closer.\\n\\nQ: Where were the 1992 Olympics held?\\nA: The 1992 Olympics were held in Barcelona, Spain.\\n\\nQ: How many squigs are in a bonk?\\nA: Unknown\\n\\nQ: Where is the Valley of Kings?\\nA:'"
      ]
     },
     "execution_count": 29,
     "metadata": {},
     "output_type": "execute_result"
    }
   ],
   "source": [
    "prompt = \"\"\"I am a highly intelligent question answering bot. If you ask me a question that is rooted in truth, I will give you the answer. If you ask me a question that is nonsense, trickery, or has no clear answer, I will respond with \"Unknown\".\n",
    "\n",
    "Q: What is human life expectancy in the United States?\n",
    "A: Human life expectancy in the United States is 78 years.\n",
    "\n",
    "Q: Who was president of the United States in 1955?\n",
    "A: Dwight D. Eisenhower was president of the United States in 1955.\n",
    "\n",
    "Q: Which party did he belong to?\n",
    "A: He belonged to the Republican Party.\n",
    "\n",
    "Q: What is the square root of banana?\n",
    "A: Unknown\n",
    "\n",
    "Q: How does a telescope work?\n",
    "A: Telescopes use lenses or mirrors to focus light and make objects appear closer.\n",
    "\n",
    "Q: Where were the 1992 Olympics held?\n",
    "A: The 1992 Olympics were held in Barcelona, Spain.\n",
    "\n",
    "Q: How many squigs are in a bonk?\n",
    "A: Unknown\n",
    "\n",
    "Q: Where is the Valley of Kings?\n",
    "A:\"\"\"\n",
    "\n",
    "prompt"
   ]
  },
  {
   "cell_type": "code",
   "execution_count": 30,
   "id": "4219bbd8",
   "metadata": {},
   "outputs": [],
   "source": [
    "response = openai.Completion.create(\n",
    "  engine=\"ada\",\n",
    "  prompt=prompt,\n",
    "  temperature=0,\n",
    "  max_tokens=100,\n",
    "  top_p=1,\n",
    "  frequency_penalty=0.0,\n",
    "  presence_penalty=0.0,\n",
    "  stop=[\"\\n\"]\n",
    ")"
   ]
  },
  {
   "cell_type": "code",
   "execution_count": 31,
   "id": "fd05518a",
   "metadata": {},
   "outputs": [
    {
     "data": {
      "text/plain": [
       "<OpenAIObject text_completion id=cmpl-46E7XLtRfUarvsoVHYNdQyDQGcMvZ at 0x7f091c3c64c0> JSON: {\n",
       "  \"choices\": [\n",
       "    {\n",
       "      \"finish_reason\": \"stop\",\n",
       "      \"index\": 0,\n",
       "      \"logprobs\": null,\n",
       "      \"text\": \" Unknown\"\n",
       "    }\n",
       "  ],\n",
       "  \"created\": 1637389595,\n",
       "  \"id\": \"cmpl-46E7XLtRfUarvsoVHYNdQyDQGcMvZ\",\n",
       "  \"model\": \"ada:2020-05-03\",\n",
       "  \"object\": \"text_completion\"\n",
       "}"
      ]
     },
     "execution_count": 31,
     "metadata": {},
     "output_type": "execute_result"
    }
   ],
   "source": [
    "response"
   ]
  },
  {
   "cell_type": "code",
   "execution_count": 32,
   "id": "d1b20366",
   "metadata": {},
   "outputs": [
    {
     "data": {
      "text/plain": [
       "<OpenAIObject text_completion id=cmpl-46E7nGtjryVbyiEvMK36SvwywCK4M at 0x7f091c3fde08> JSON: {\n",
       "  \"choices\": [\n",
       "    {\n",
       "      \"finish_reason\": \"stop\",\n",
       "      \"index\": 0,\n",
       "      \"logprobs\": null,\n",
       "      \"text\": \" The Valley of Kings is a large area in Egypt.\"\n",
       "    }\n",
       "  ],\n",
       "  \"created\": 1637389611,\n",
       "  \"id\": \"cmpl-46E7nGtjryVbyiEvMK36SvwywCK4M\",\n",
       "  \"model\": \"babbage:2020-05-03\",\n",
       "  \"object\": \"text_completion\"\n",
       "}"
      ]
     },
     "execution_count": 32,
     "metadata": {},
     "output_type": "execute_result"
    }
   ],
   "source": [
    "response = openai.Completion.create(\n",
    "  engine=\"babbage\",\n",
    "  prompt=prompt,\n",
    "  temperature=0,\n",
    "  max_tokens=100,\n",
    "  top_p=1,\n",
    "  frequency_penalty=0.0,\n",
    "  presence_penalty=0.0,\n",
    "  stop=[\"\\n\"]\n",
    ")\n",
    "response"
   ]
  },
  {
   "cell_type": "code",
   "execution_count": 24,
   "id": "c3a247f9",
   "metadata": {},
   "outputs": [
    {
     "data": {
      "text/plain": [
       "<OpenAIObject text_completion id=cmpl-46E4YK1IThpiWMN7p2pKFwUIR88x1 at 0x7f091c3fd360> JSON: {\n",
       "  \"choices\": [\n",
       "    {\n",
       "      \"finish_reason\": \"stop\",\n",
       "      \"index\": 0,\n",
       "      \"logprobs\": null,\n",
       "      \"text\": \" The Valley of Kings is located in Egypt.\"\n",
       "    }\n",
       "  ],\n",
       "  \"created\": 1637389410,\n",
       "  \"id\": \"cmpl-46E4YK1IThpiWMN7p2pKFwUIR88x1\",\n",
       "  \"model\": \"curie:2020-05-03\",\n",
       "  \"object\": \"text_completion\"\n",
       "}"
      ]
     },
     "execution_count": 24,
     "metadata": {},
     "output_type": "execute_result"
    }
   ],
   "source": [
    "response = openai.Completion.create(\n",
    "  engine=\"curie\",\n",
    "  prompt=prompt,\n",
    "  temperature=0,\n",
    "  max_tokens=100,\n",
    "  top_p=1,\n",
    "  frequency_penalty=0.0,\n",
    "  presence_penalty=0.0,\n",
    "  stop=[\"\\n\"]\n",
    ")\n",
    "response"
   ]
  },
  {
   "cell_type": "code",
   "execution_count": 25,
   "id": "4eb18990",
   "metadata": {},
   "outputs": [
    {
     "data": {
      "text/plain": [
       "<OpenAIObject text_completion id=cmpl-46E4vSC1fF58JWZOYbzSLNz71c5pe at 0x7f091c3fd678> JSON: {\n",
       "  \"choices\": [\n",
       "    {\n",
       "      \"finish_reason\": \"stop\",\n",
       "      \"index\": 0,\n",
       "      \"logprobs\": null,\n",
       "      \"text\": \" The Valley of Kings is in Luxor, Egypt.\"\n",
       "    }\n",
       "  ],\n",
       "  \"created\": 1637389433,\n",
       "  \"id\": \"cmpl-46E4vSC1fF58JWZOYbzSLNz71c5pe\",\n",
       "  \"model\": \"davinci:2020-05-03\",\n",
       "  \"object\": \"text_completion\"\n",
       "}"
      ]
     },
     "execution_count": 25,
     "metadata": {},
     "output_type": "execute_result"
    }
   ],
   "source": [
    "response = openai.Completion.create(\n",
    "  engine=\"davinci\",\n",
    "  prompt=prompt,\n",
    "  temperature=0,\n",
    "  max_tokens=100,\n",
    "  top_p=1,\n",
    "  frequency_penalty=0.0,\n",
    "  presence_penalty=0.0,\n",
    "  stop=[\"\\n\"]\n",
    ")\n",
    "response"
   ]
  },
  {
   "cell_type": "markdown",
   "id": "44d84c4f",
   "metadata": {},
   "source": [
    "# Instruct series"
   ]
  },
  {
   "cell_type": "code",
   "execution_count": 26,
   "id": "aff7a298",
   "metadata": {},
   "outputs": [
    {
     "data": {
      "text/plain": [
       "<OpenAIObject text_completion id=cmpl-46E6U8gxOSTUQ16dGwYHKEBgvAfvK at 0x7f091c3fd9e8> JSON: {\n",
       "  \"choices\": [\n",
       "    {\n",
       "      \"finish_reason\": \"stop\",\n",
       "      \"index\": 0,\n",
       "      \"logprobs\": null,\n",
       "      \"text\": \" The Valley of Kings is in Egypt.\"\n",
       "    }\n",
       "  ],\n",
       "  \"created\": 1637389530,\n",
       "  \"id\": \"cmpl-46E6U8gxOSTUQ16dGwYHKEBgvAfvK\",\n",
       "  \"model\": \"if-curie-v2\",\n",
       "  \"object\": \"text_completion\"\n",
       "}"
      ]
     },
     "execution_count": 26,
     "metadata": {},
     "output_type": "execute_result"
    }
   ],
   "source": [
    "# https://beta.openai.com/docs/engines/instruct-series-beta\n",
    "\n",
    "response = openai.Completion.create(\n",
    "  engine=\"curie-instruct-beta\",\n",
    "  prompt=prompt,\n",
    "  temperature=0,\n",
    "  max_tokens=100,\n",
    "  top_p=1,\n",
    "  frequency_penalty=0.0,\n",
    "  presence_penalty=0.0,\n",
    "  stop=[\"\\n\"]\n",
    ")\n",
    "response"
   ]
  },
  {
   "cell_type": "code",
   "execution_count": 27,
   "id": "ec4f6e57",
   "metadata": {},
   "outputs": [
    {
     "data": {
      "text/plain": [
       "<OpenAIObject text_completion id=cmpl-46E6go15FbPQOWms0h4cndbIeeITV at 0x7f091c3fdf10> JSON: {\n",
       "  \"choices\": [\n",
       "    {\n",
       "      \"finish_reason\": \"stop\",\n",
       "      \"index\": 0,\n",
       "      \"logprobs\": null,\n",
       "      \"text\": \" The Valley of Kings is in Egypt.\"\n",
       "    }\n",
       "  ],\n",
       "  \"created\": 1637389542,\n",
       "  \"id\": \"cmpl-46E6go15FbPQOWms0h4cndbIeeITV\",\n",
       "  \"model\": \"if-davinci-v2\",\n",
       "  \"object\": \"text_completion\"\n",
       "}"
      ]
     },
     "execution_count": 27,
     "metadata": {},
     "output_type": "execute_result"
    }
   ],
   "source": [
    "response = openai.Completion.create(\n",
    "  engine=\"davinci-instruct-beta\",\n",
    "  prompt=prompt,\n",
    "  temperature=0,\n",
    "  max_tokens=100,\n",
    "  top_p=1,\n",
    "  frequency_penalty=0.0,\n",
    "  presence_penalty=0.0,\n",
    "  stop=[\"\\n\"]\n",
    ")\n",
    "response"
   ]
  },
  {
   "cell_type": "code",
   "execution_count": null,
   "id": "0b862841",
   "metadata": {},
   "outputs": [],
   "source": []
  }
 ],
 "metadata": {
  "kernelspec": {
   "display_name": "Python 3 (ipykernel)",
   "language": "python",
   "name": "python3"
  },
  "language_info": {
   "codemirror_mode": {
    "name": "ipython",
    "version": 3
   },
   "file_extension": ".py",
   "mimetype": "text/x-python",
   "name": "python",
   "nbconvert_exporter": "python",
   "pygments_lexer": "ipython3",
   "version": "3.7.2"
  }
 },
 "nbformat": 4,
 "nbformat_minor": 5
}
