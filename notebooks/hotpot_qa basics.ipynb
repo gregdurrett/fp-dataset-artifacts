{
 "cells": [
  {
   "cell_type": "code",
   "execution_count": 8,
   "id": "99bc86b6",
   "metadata": {},
   "outputs": [],
   "source": [
    "import os\n",
    "import openai\n",
    "\n",
    "from dotenv import load_dotenv\n",
    "\n",
    "load_dotenv()  # take environment variables from .env.\n",
    "# Load your API key from an environment variable or secret management service\n",
    "openai.api_key = os.getenv(\"OPENAI_API_KEY\")"
   ]
  },
  {
   "cell_type": "code",
   "execution_count": 9,
   "id": "aa1e162c",
   "metadata": {},
   "outputs": [
    {
     "name": "stdout",
     "output_type": "stream",
     "text": [
      "Downloading and preparing dataset hotpot_qa/fullwiki (download: 629.52 MiB, generated: 615.88 MiB, post-processed: Unknown size, total: 1.22 GiB) to /home/x/.cache/huggingface/datasets/hotpot_qa/fullwiki/1.0.0/133b9501f892e5193babbad937bee3b4899deb4691ef4d791e6ac0111c875bb5...\n"
     ]
    },
    {
     "data": {
      "application/vnd.jupyter.widget-view+json": {
       "model_id": "e77118720a464756a3fd5937830de0dc",
       "version_major": 2,
       "version_minor": 0
      },
      "text/plain": [
       "  0%|          | 0/3 [00:00<?, ?it/s]"
      ]
     },
     "metadata": {},
     "output_type": "display_data"
    },
    {
     "data": {
      "application/vnd.jupyter.widget-view+json": {
       "model_id": "6ed0274371eb4e11928da868c05f1c1c",
       "version_major": 2,
       "version_minor": 0
      },
      "text/plain": [
       "Downloading:   0%|          | 0.00/566M [00:00<?, ?B/s]"
      ]
     },
     "metadata": {},
     "output_type": "display_data"
    },
    {
     "data": {
      "application/vnd.jupyter.widget-view+json": {
       "model_id": "93b31c30be2b499999ab050f973479de",
       "version_major": 2,
       "version_minor": 0
      },
      "text/plain": [
       "Downloading:   0%|          | 0.00/47.5M [00:00<?, ?B/s]"
      ]
     },
     "metadata": {},
     "output_type": "display_data"
    },
    {
     "data": {
      "application/vnd.jupyter.widget-view+json": {
       "model_id": "1398f711fd9a49bc80bb75b5f384b57b",
       "version_major": 2,
       "version_minor": 0
      },
      "text/plain": [
       "Downloading:   0%|          | 0.00/46.2M [00:00<?, ?B/s]"
      ]
     },
     "metadata": {},
     "output_type": "display_data"
    },
    {
     "data": {
      "application/vnd.jupyter.widget-view+json": {
       "model_id": "1922a2481f8a44a4a621df59bee7fc17",
       "version_major": 2,
       "version_minor": 0
      },
      "text/plain": [
       "0 examples [00:00, ? examples/s]"
      ]
     },
     "metadata": {},
     "output_type": "display_data"
    },
    {
     "data": {
      "application/vnd.jupyter.widget-view+json": {
       "model_id": "e63dd7c6f972401bba2b78a76b8d312e",
       "version_major": 2,
       "version_minor": 0
      },
      "text/plain": [
       "0 examples [00:00, ? examples/s]"
      ]
     },
     "metadata": {},
     "output_type": "display_data"
    },
    {
     "data": {
      "application/vnd.jupyter.widget-view+json": {
       "model_id": "5574e870affd42aeb01f32165707bd2c",
       "version_major": 2,
       "version_minor": 0
      },
      "text/plain": [
       "0 examples [00:00, ? examples/s]"
      ]
     },
     "metadata": {},
     "output_type": "display_data"
    },
    {
     "name": "stdout",
     "output_type": "stream",
     "text": [
      "Dataset hotpot_qa downloaded and prepared to /home/x/.cache/huggingface/datasets/hotpot_qa/fullwiki/1.0.0/133b9501f892e5193babbad937bee3b4899deb4691ef4d791e6ac0111c875bb5. Subsequent calls will reuse this data.\n"
     ]
    },
    {
     "data": {
      "application/vnd.jupyter.widget-view+json": {
       "model_id": "4f7c15b9140442a0a861bb369f944653",
       "version_major": 2,
       "version_minor": 0
      },
      "text/plain": [
       "  0%|          | 0/3 [00:00<?, ?it/s]"
      ]
     },
     "metadata": {},
     "output_type": "display_data"
    }
   ],
   "source": [
    "from datasets import load_dataset\n",
    "\n",
    "dataset = load_dataset(\"hotpot_qa\", 'fullwiki')"
   ]
  },
  {
   "cell_type": "code",
   "execution_count": 10,
   "id": "1453ec4f",
   "metadata": {},
   "outputs": [
    {
     "data": {
      "text/plain": [
       "DatasetDict({\n",
       "    train: Dataset({\n",
       "        features: ['id', 'question', 'answer', 'type', 'level', 'supporting_facts', 'context'],\n",
       "        num_rows: 90447\n",
       "    })\n",
       "    validation: Dataset({\n",
       "        features: ['id', 'question', 'answer', 'type', 'level', 'supporting_facts', 'context'],\n",
       "        num_rows: 7405\n",
       "    })\n",
       "    test: Dataset({\n",
       "        features: ['id', 'question', 'answer', 'type', 'level', 'supporting_facts', 'context'],\n",
       "        num_rows: 7405\n",
       "    })\n",
       "})"
      ]
     },
     "execution_count": 10,
     "metadata": {},
     "output_type": "execute_result"
    }
   ],
   "source": [
    "dataset"
   ]
  },
  {
   "cell_type": "markdown",
   "id": "e76cfd29",
   "metadata": {},
   "source": [
    "# Naive Approach"
   ]
  },
  {
   "cell_type": "code",
   "execution_count": 11,
   "id": "3708d5c1",
   "metadata": {},
   "outputs": [
    {
     "data": {
      "text/plain": [
       "{'id': '5a7a06935542990198eaf050',\n",
       " 'question': \"Which magazine was started first Arthur's Magazine or First for Women?\",\n",
       " 'answer': \"Arthur's Magazine\",\n",
       " 'type': 'comparison',\n",
       " 'level': 'medium',\n",
       " 'supporting_facts': {'title': [\"Arthur's Magazine\", 'First for Women'],\n",
       "  'sent_id': [0, 0]},\n",
       " 'context': {'title': ['Radio City (Indian radio station)',\n",
       "   'History of Albanian football',\n",
       "   'Echosmith',\n",
       "   \"Women's colleges in the Southern United States\",\n",
       "   'First Arthur County Courthouse and Jail',\n",
       "   \"Arthur's Magazine\",\n",
       "   '2014–15 Ukrainian Hockey Championship',\n",
       "   'First for Women',\n",
       "   'Freeway Complex Fire',\n",
       "   'William Rast'],\n",
       "  'sentences': [[\"Radio City is India's first private FM radio station and was started on 3 July 2001.\",\n",
       "    ' It broadcasts on 91.1 (earlier 91.0 in most cities) megahertz from Mumbai (where it was started in 2004), Bengaluru (started first in 2001), Lucknow and New Delhi (since 2003).',\n",
       "    ' It plays Hindi, English and regional songs.',\n",
       "    ' It was launched in Hyderabad in March 2006, in Chennai on 7 July 2006 and in Visakhapatnam October 2007.',\n",
       "    ' Radio City recently forayed into New Media in May 2008 with the launch of a music portal - PlanetRadiocity.com that offers music related news, videos, songs, and other music-related features.',\n",
       "    ' The Radio station currently plays a mix of Hindi and Regional music.',\n",
       "    ' Abraham Thomas is the CEO of the company.'],\n",
       "   ['Football in Albania existed before the Albanian Football Federation (FSHF) was created.',\n",
       "    \" This was evidenced by the team's registration at the Balkan Cup tournament during 1929-1931, which started in 1929 (although Albania eventually had pressure from the teams because of competition, competition started first and was strong enough in the duels) .\",\n",
       "    ' Albanian National Team was founded on June 6, 1930, but Albania had to wait 16 years to play its first international match and then defeated Yugoslavia in 1946.',\n",
       "    ' In 1932, Albania joined FIFA (during the 12–16 June convention ) And in 1954 she was one of the founding members of UEFA.'],\n",
       "   ['Echosmith is an American, Corporate indie pop band formed in February 2009 in Chino, California.',\n",
       "    ' Originally formed as a quartet of siblings, the band currently consists of Sydney, Noah and Graham Sierota, following the departure of eldest sibling Jamie in late 2016.',\n",
       "    ' Echosmith started first as \"Ready Set Go!\"',\n",
       "    ' until they signed to Warner Bros.',\n",
       "    ' Records in May 2012.',\n",
       "    ' They are best known for their hit song \"Cool Kids\", which reached number 13 on the \"Billboard\" Hot 100 and was certified double platinum by the RIAA with over 1,200,000 sales in the United States and also double platinum by ARIA in Australia.',\n",
       "    ' The song was Warner Bros.',\n",
       "    \" Records' fifth-biggest-selling-digital song of 2014, with 1.3 million downloads sold.\",\n",
       "    ' The band\\'s debut album, \"Talking Dreams\", was released on October 8, 2013.'],\n",
       "   [\"Women's colleges in the Southern United States refers to undergraduate, bachelor's degree–granting institutions, often liberal arts colleges, whose student populations consist exclusively or almost exclusively of women, located in the Southern United States.\",\n",
       "    \" Many started first as girls' seminaries or academies.\",\n",
       "    ' Salem College is the oldest female educational institution in the South and Wesleyan College is the first that was established specifically as a college for women.',\n",
       "    ' Some schools, such as Mary Baldwin University and Salem College, offer coeducational courses at the graduate level.'],\n",
       "   ['The First Arthur County Courthouse and Jail, was perhaps the smallest court house in the United States, and serves now as a museum.'],\n",
       "   [\"Arthur's Magazine (1844–1846) was an American literary periodical published in Philadelphia in the 19th century.\",\n",
       "    ' Edited by T.S. Arthur, it featured work by Edgar A. Poe, J.H. Ingraham, Sarah Josepha Hale, Thomas G. Spear, and others.',\n",
       "    ' In May 1846 it was merged into \"Godey\\'s Lady\\'s Book\".'],\n",
       "   ['The 2014–15 Ukrainian Hockey Championship was the 23rd season of the Ukrainian Hockey Championship.',\n",
       "    ' Only four teams participated in the league this season, because of the instability in Ukraine and that most of the clubs had economical issues.',\n",
       "    ' Generals Kiev was the only team that participated in the league the previous season, and the season started first after the year-end of 2014.',\n",
       "    ' The regular season included just 12 rounds, where all the teams went to the semifinals.',\n",
       "    ' In the final, ATEK Kiev defeated the regular season winner HK Kremenchuk.'],\n",
       "   [\"First for Women is a woman's magazine published by Bauer Media Group in the USA.\",\n",
       "    ' The magazine was started in 1989.',\n",
       "    ' It is based in Englewood Cliffs, New Jersey.',\n",
       "    ' In 2011 the circulation of the magazine was 1,310,696 copies.'],\n",
       "   ['The Freeway Complex Fire was a 2008 wildfire in the Santa Ana Canyon area of Orange County, California.',\n",
       "    ' The fire started as two separate fires on November 15, 2008.',\n",
       "    ' The \"Freeway Fire\" started first shortly after 9am with the \"Landfill Fire\" igniting approximately 2 hours later.',\n",
       "    ' These two separate fires merged a day later and ultimately destroyed 314 residences in Anaheim Hills and Yorba Linda.'],\n",
       "   ['William Rast is an American clothing line founded by Justin Timberlake and Trace Ayala.',\n",
       "    ' It is most known for their premium jeans.',\n",
       "    ' On October 17, 2006, Justin Timberlake and Trace Ayala put on their first fashion show to launch their new William Rast clothing line.',\n",
       "    ' The label also produces other clothing items such as jackets and tops.',\n",
       "    ' The company started first as a denim line, later evolving into a men’s and women’s clothing line.']]}}"
      ]
     },
     "execution_count": 11,
     "metadata": {},
     "output_type": "execute_result"
    }
   ],
   "source": [
    "x = dataset['train'][0]\n",
    "x"
   ]
  },
  {
   "cell_type": "code",
   "execution_count": 12,
   "id": "81d6abe4",
   "metadata": {},
   "outputs": [
    {
     "name": "stdout",
     "output_type": "stream",
     "text": [
      "I am a highly intelligent question answering bot. If you ask me a question that is rooted in truth, I will give you the answer. If you ask me a question that is nonsense, trickery, or has no clear answer, I will respond with \"Unknown\".\n",
      "\n",
      "Q: What is human life expectancy in the United States?\n",
      "A: Human life expectancy in the United States is 78 years.\n",
      "\n",
      "Q: Who was president of the United States in 1955?\n",
      "A: Dwight D. Eisenhower was president of the United States in 1955.\n",
      "\n",
      "Q: Which party did he belong to?\n",
      "A: He belonged to the Republican Party.\n",
      "\n",
      "Q: What is the square root of banana?\n",
      "A: Unknown\n",
      "\n",
      "Q: How does a telescope work?\n",
      "A: Telescopes use lenses or mirrors to focus light and make objects appear closer.\n",
      "\n",
      "Q: Where were the 1992 Olympics held?\n",
      "A: The 1992 Olympics were held in Barcelona, Spain.\n",
      "\n",
      "Q: How many squigs are in a bonk?\n",
      "A: Unknown\n",
      "\n",
      "Q: Which magazine was started first Arthur's Magazine or First for Women?\n",
      "A:\n"
     ]
    }
   ],
   "source": [
    "prompt = f\"\"\"I am a highly intelligent question answering bot. If you ask me a question that is rooted in truth, I will give you the answer. If you ask me a question that is nonsense, trickery, or has no clear answer, I will respond with \"Unknown\".\n",
    "\n",
    "Q: What is human life expectancy in the United States?\n",
    "A: Human life expectancy in the United States is 78 years.\n",
    "\n",
    "Q: Who was president of the United States in 1955?\n",
    "A: Dwight D. Eisenhower was president of the United States in 1955.\n",
    "\n",
    "Q: Which party did he belong to?\n",
    "A: He belonged to the Republican Party.\n",
    "\n",
    "Q: What is the square root of banana?\n",
    "A: Unknown\n",
    "\n",
    "Q: How does a telescope work?\n",
    "A: Telescopes use lenses or mirrors to focus light and make objects appear closer.\n",
    "\n",
    "Q: Where were the 1992 Olympics held?\n",
    "A: The 1992 Olympics were held in Barcelona, Spain.\n",
    "\n",
    "Q: How many squigs are in a bonk?\n",
    "A: Unknown\n",
    "\n",
    "Q: \"\"\" + x['question'] + \"\"\"\n",
    "A:\"\"\"\n",
    "print(prompt)"
   ]
  },
  {
   "cell_type": "code",
   "execution_count": 13,
   "id": "7f387bef",
   "metadata": {},
   "outputs": [
    {
     "data": {
      "text/plain": [
       "<OpenAIObject text_completion id=cmpl-46EkdcC14Exu9gdzgL3LOEkZUckF4 at 0x7f0326658180> JSON: {\n",
       "  \"choices\": [\n",
       "    {\n",
       "      \"finish_reason\": \"stop\",\n",
       "      \"index\": 0,\n",
       "      \"logprobs\": null,\n",
       "      \"text\": \" Arthur's Magazine was started first.\"\n",
       "    }\n",
       "  ],\n",
       "  \"created\": 1637392019,\n",
       "  \"id\": \"cmpl-46EkdcC14Exu9gdzgL3LOEkZUckF4\",\n",
       "  \"model\": \"ada:2020-05-03\",\n",
       "  \"object\": \"text_completion\"\n",
       "}"
      ]
     },
     "execution_count": 13,
     "metadata": {},
     "output_type": "execute_result"
    }
   ],
   "source": [
    "response = openai.Completion.create(\n",
    "  engine=\"ada\",\n",
    "  prompt=prompt,\n",
    "  temperature=0,\n",
    "  max_tokens=100,\n",
    "  top_p=1,\n",
    "  frequency_penalty=0.0,\n",
    "  presence_penalty=0.0,\n",
    "  stop=[\"\\n\"]\n",
    ")\n",
    "response"
   ]
  },
  {
   "cell_type": "code",
   "execution_count": 14,
   "id": "0c542357",
   "metadata": {},
   "outputs": [
    {
     "data": {
      "text/plain": [
       "<OpenAIObject text_completion id=cmpl-46Ekyof51IJkF62qfdk538tXwh8eU at 0x7f02fcdde590> JSON: {\n",
       "  \"choices\": [\n",
       "    {\n",
       "      \"finish_reason\": \"stop\",\n",
       "      \"index\": 0,\n",
       "      \"logprobs\": null,\n",
       "      \"text\": \" First for Women was started first.\"\n",
       "    }\n",
       "  ],\n",
       "  \"created\": 1637392040,\n",
       "  \"id\": \"cmpl-46Ekyof51IJkF62qfdk538tXwh8eU\",\n",
       "  \"model\": \"babbage:2020-05-03\",\n",
       "  \"object\": \"text_completion\"\n",
       "}"
      ]
     },
     "execution_count": 14,
     "metadata": {},
     "output_type": "execute_result"
    }
   ],
   "source": [
    "response = openai.Completion.create(\n",
    "  engine=\"babbage\",\n",
    "  prompt=prompt,\n",
    "  temperature=0,\n",
    "  max_tokens=100,\n",
    "  top_p=1,\n",
    "  frequency_penalty=0.0,\n",
    "  presence_penalty=0.0,\n",
    "  stop=[\"\\n\"]\n",
    ")\n",
    "response"
   ]
  },
  {
   "cell_type": "code",
   "execution_count": 15,
   "id": "b7ec0a07",
   "metadata": {},
   "outputs": [
    {
     "data": {
      "text/plain": [
       "<OpenAIObject text_completion id=cmpl-46El1FdMQs5plabhX5uJgPDFhcGTR at 0x7f02fd635b80> JSON: {\n",
       "  \"choices\": [\n",
       "    {\n",
       "      \"finish_reason\": \"stop\",\n",
       "      \"index\": 0,\n",
       "      \"logprobs\": null,\n",
       "      \"text\": \" Arthur's Magazine was started first.\"\n",
       "    }\n",
       "  ],\n",
       "  \"created\": 1637392043,\n",
       "  \"id\": \"cmpl-46El1FdMQs5plabhX5uJgPDFhcGTR\",\n",
       "  \"model\": \"curie:2020-05-03\",\n",
       "  \"object\": \"text_completion\"\n",
       "}"
      ]
     },
     "execution_count": 15,
     "metadata": {},
     "output_type": "execute_result"
    }
   ],
   "source": [
    "response = openai.Completion.create(\n",
    "  engine=\"curie\",\n",
    "  prompt=prompt,\n",
    "  temperature=0,\n",
    "  max_tokens=100,\n",
    "  top_p=1,\n",
    "  frequency_penalty=0.0,\n",
    "  presence_penalty=0.0,\n",
    "  stop=[\"\\n\"]\n",
    ")\n",
    "response"
   ]
  },
  {
   "cell_type": "code",
   "execution_count": 16,
   "id": "3cc852f0",
   "metadata": {},
   "outputs": [
    {
     "data": {
      "text/plain": [
       "<OpenAIObject text_completion id=cmpl-46El3Mky0GlE2RwP4sXVRHv84ESQi at 0x7f02ef79eea0> JSON: {\n",
       "  \"choices\": [\n",
       "    {\n",
       "      \"finish_reason\": \"stop\",\n",
       "      \"index\": 0,\n",
       "      \"logprobs\": null,\n",
       "      \"text\": \" Arthur's Magazine was started first.\"\n",
       "    }\n",
       "  ],\n",
       "  \"created\": 1637392045,\n",
       "  \"id\": \"cmpl-46El3Mky0GlE2RwP4sXVRHv84ESQi\",\n",
       "  \"model\": \"davinci:2020-05-03\",\n",
       "  \"object\": \"text_completion\"\n",
       "}"
      ]
     },
     "execution_count": 16,
     "metadata": {},
     "output_type": "execute_result"
    }
   ],
   "source": [
    "response = openai.Completion.create(\n",
    "  engine=\"davinci\",\n",
    "  prompt=prompt,\n",
    "  temperature=0,\n",
    "  max_tokens=100,\n",
    "  top_p=1,\n",
    "  frequency_penalty=0.0,\n",
    "  presence_penalty=0.0,\n",
    "  stop=[\"\\n\"]\n",
    ")\n",
    "response"
   ]
  },
  {
   "cell_type": "code",
   "execution_count": null,
   "id": "b8d1f318",
   "metadata": {},
   "outputs": [],
   "source": []
  }
 ],
 "metadata": {
  "kernelspec": {
   "display_name": "Python 3 (ipykernel)",
   "language": "python",
   "name": "python3"
  },
  "language_info": {
   "codemirror_mode": {
    "name": "ipython",
    "version": 3
   },
   "file_extension": ".py",
   "mimetype": "text/x-python",
   "name": "python",
   "nbconvert_exporter": "python",
   "pygments_lexer": "ipython3",
   "version": "3.9.7"
  }
 },
 "nbformat": 4,
 "nbformat_minor": 5
}
