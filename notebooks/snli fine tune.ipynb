{
 "cells": [
  {
   "cell_type": "code",
   "execution_count": 2,
   "id": "6f9c8770",
   "metadata": {},
   "outputs": [
    {
     "name": "stderr",
     "output_type": "stream",
     "text": [
      "Reusing dataset snli (/home/x/.cache/huggingface/datasets/snli/plain_text/1.0.0/1f60b67533b65ae0275561ff7828aad5ee4282d0e6f844fd148d05d3c6ea251b)\n"
     ]
    },
    {
     "data": {
      "application/vnd.jupyter.widget-view+json": {
       "model_id": "f242643e9d8849878b71a9de30b68901",
       "version_major": 2,
       "version_minor": 0
      },
      "text/plain": [
       "  0%|          | 0/3 [00:00<?, ?it/s]"
      ]
     },
     "metadata": {},
     "output_type": "display_data"
    },
    {
     "data": {
      "text/plain": [
       "DatasetDict({\n",
       "    test: Dataset({\n",
       "        features: ['premise', 'hypothesis', 'label'],\n",
       "        num_rows: 10000\n",
       "    })\n",
       "    train: Dataset({\n",
       "        features: ['premise', 'hypothesis', 'label'],\n",
       "        num_rows: 550152\n",
       "    })\n",
       "    validation: Dataset({\n",
       "        features: ['premise', 'hypothesis', 'label'],\n",
       "        num_rows: 10000\n",
       "    })\n",
       "})"
      ]
     },
     "execution_count": 2,
     "metadata": {},
     "output_type": "execute_result"
    }
   ],
   "source": [
    "# Reference: https://beta.openai.com/docs/guides/fine-tuning\n",
    "\n",
    "\"\"\"\n",
    "Currently there is no fee for fine-tuning the model itself, however we will be introducing a fee for this starting December 8th 2021 at 00:00 UTC. After this time, trained tokens will be billed at 50% the base model inference rate per 1k tokens (trained tokens = tokens in file * epochs).\n",
    "\n",
    "We will also begin supporting unlimited monthly fine-tunes and file sizes on December 8th, but until then there is a limit of 10 fine-tuning runs per month and data sets are limited to 2.5M tokens (a file size that's roughly 80-100MB).\n",
    "\"\"\"\n",
    "\n",
    "# There are some limitations put in at the moment\n",
    "\n",
    "import openai\n",
    "\n",
    "from fp_dataset_artifacts.utils import init_openai\n",
    "from datasets import list_datasets, load_dataset, list_metrics, load_metric\n",
    "\n",
    "init_openai()\n",
    "\n",
    "data = load_dataset('snli')\n",
    "data"
   ]
  },
  {
   "cell_type": "code",
   "execution_count": 5,
   "id": "92a0fa36",
   "metadata": {},
   "outputs": [],
   "source": [
    "\"\"\"Fine tuning expects the following format:\n",
    "\n",
    "{\"prompt\": \"<prompt text>\", \"completion\": \"<ideal generated text>\"}\n",
    "{\"prompt\": \"<prompt text>\", \"completion\": \"<ideal generated text>\"}\n",
    "{\"prompt\": \"<prompt text>\", \"completion\": \"<ideal generated text>\"}\n",
    "...\n",
    "\n",
    "\"\"\"\n",
    "\n",
    "int2label = data['train'].features['label'].int2str\n",
    "\n",
    "def to_example(data, include_label=True):\n",
    "    sentences = []\n",
    "    \n",
    "    for feature in data.keys():                \n",
    "        text = data[feature]\n",
    "        \n",
    "        if feature == 'label':\n",
    "            if not include_label:\n",
    "                text = ''\n",
    "            else:\n",
    "                text = int2label(text).capitalize()\n",
    "            \n",
    "        sentence = f'{feature.capitalize()}: {text}'\n",
    "        sentences.append(sentence)\n",
    "        \n",
    "    return '\\n'.join(sentences)\n",
    "\n",
    "\n",
    "def format_jsonl(x):\n",
    "     return {\n",
    "         'prompt': to_example(x, False),\n",
    "         'completion': int2label(x['label']).capitalize()\n",
    "     }\n",
    "    \n",
    "\n",
    "def build_jsonl(data, filename):\n",
    "    import json\n",
    "    \n",
    "    with open(filename, 'w') as f:\n",
    "        for x in data:\n",
    "            if x['label'] >= 0:\n",
    "                f.write(json.dumps(format_jsonl(x)) + '\\n') \n",
    "\n",
    "build_jsonl(data['train'], 'snli_finetune_train.jsonl')\n",
    "build_jsonl(data['validation'], 'snli_finetune_validation.jsonl')"
   ]
  },
  {
   "cell_type": "code",
   "execution_count": 6,
   "id": "4e975e26",
   "metadata": {},
   "outputs": [
    {
     "data": {
      "text/plain": [
       "<File file id=file-zESrbwb1mh3p2OjVzhcsKmH4 at 0x7f1fda351f40> JSON: {\n",
       "  \"bytes\": 98207620,\n",
       "  \"created_at\": 1638409664,\n",
       "  \"filename\": \"snli_finetune_train.jsonl\",\n",
       "  \"id\": \"file-zESrbwb1mh3p2OjVzhcsKmH4\",\n",
       "  \"object\": \"file\",\n",
       "  \"purpose\": \"fine-tune\",\n",
       "  \"status\": \"uploaded\",\n",
       "  \"status_details\": null\n",
       "}"
      ]
     },
     "execution_count": 6,
     "metadata": {},
     "output_type": "execute_result"
    }
   ],
   "source": [
    "# Upload files\n",
    "openai.File.create(file=open(\"snli_finetune_train.jsonl\"), purpose=\"fine-tune\")"
   ]
  },
  {
   "cell_type": "code",
   "execution_count": 7,
   "id": "55e1e531",
   "metadata": {},
   "outputs": [
    {
     "data": {
      "text/plain": [
       "<File file id=file-QC8NTdPW56lhbaDtuxvofGLj at 0x7f203a616810> JSON: {\n",
       "  \"bytes\": 1822513,\n",
       "  \"created_at\": 1638409667,\n",
       "  \"filename\": \"snli_finetune_validation.jsonl\",\n",
       "  \"id\": \"file-QC8NTdPW56lhbaDtuxvofGLj\",\n",
       "  \"object\": \"file\",\n",
       "  \"purpose\": \"fine-tune\",\n",
       "  \"status\": \"uploaded\",\n",
       "  \"status_details\": null\n",
       "}"
      ]
     },
     "execution_count": 7,
     "metadata": {},
     "output_type": "execute_result"
    }
   ],
   "source": [
    "openai.File.create(file=open(\"snli_finetune_validation.jsonl\"), purpose=\"fine-tune\")"
   ]
  },
  {
   "cell_type": "code",
   "execution_count": 13,
   "id": "33440491",
   "metadata": {},
   "outputs": [
    {
     "data": {
      "text/plain": [
       "<FineTune fine-tune id=ft-dUn3kTdJRe33NcVQlngm2L1n at 0x7f1fda35c900> JSON: {\n",
       "  \"created_at\": 1638409797,\n",
       "  \"events\": [\n",
       "    {\n",
       "      \"created_at\": 1638409797,\n",
       "      \"level\": \"info\",\n",
       "      \"message\": \"Created fine-tune: ft-dUn3kTdJRe33NcVQlngm2L1n\",\n",
       "      \"object\": \"fine-tune-event\"\n",
       "    }\n",
       "  ],\n",
       "  \"fine_tuned_model\": null,\n",
       "  \"hyperparams\": {\n",
       "    \"batch_size\": null,\n",
       "    \"classification_n_classes\": 3,\n",
       "    \"compute_classification_metrics\": true,\n",
       "    \"learning_rate_multiplier\": null,\n",
       "    \"n_epochs\": 4,\n",
       "    \"prompt_loss_weight\": 0.1,\n",
       "    \"use_packing\": null\n",
       "  },\n",
       "  \"id\": \"ft-dUn3kTdJRe33NcVQlngm2L1n\",\n",
       "  \"model\": \"curie\",\n",
       "  \"object\": \"fine-tune\",\n",
       "  \"organization_id\": \"org-5AE307Eg4rc5EAoEA2S2bwkH\",\n",
       "  \"result_files\": [],\n",
       "  \"status\": \"pending\",\n",
       "  \"training_files\": [\n",
       "    {\n",
       "      \"bytes\": 98207620,\n",
       "      \"created_at\": 1638409664,\n",
       "      \"filename\": \"snli_finetune_train.jsonl\",\n",
       "      \"id\": \"file-zESrbwb1mh3p2OjVzhcsKmH4\",\n",
       "      \"object\": \"file\",\n",
       "      \"purpose\": \"fine-tune\",\n",
       "      \"status\": \"error\",\n",
       "      \"status_details\": \"The file contains 20821169 tokens and exceeds our 3000000 token limit. Please contact finetuning@openai.com and tell us about your use-case if you would like this limit increased.\"\n",
       "    }\n",
       "  ],\n",
       "  \"updated_at\": 1638409797,\n",
       "  \"validation_files\": [\n",
       "    {\n",
       "      \"bytes\": 1822513,\n",
       "      \"created_at\": 1638409667,\n",
       "      \"filename\": \"snli_finetune_validation.jsonl\",\n",
       "      \"id\": \"file-QC8NTdPW56lhbaDtuxvofGLj\",\n",
       "      \"object\": \"file\",\n",
       "      \"purpose\": \"fine-tune\",\n",
       "      \"status\": \"processed\",\n",
       "      \"status_details\": null\n",
       "    }\n",
       "  ]\n",
       "}"
      ]
     },
     "execution_count": 13,
     "metadata": {},
     "output_type": "execute_result"
    }
   ],
   "source": [
    "openai.FineTune.create(\n",
    "    training_file=\"file-zESrbwb1mh3p2OjVzhcsKmH4\",\n",
    "    validation_file=\"file-QC8NTdPW56lhbaDtuxvofGLj\",\n",
    "    model=\"curie\",\n",
    "    n_epochs=4, # default\n",
    "    compute_classification_metrics=True,\n",
    "    classification_n_classes=3\n",
    ")"
   ]
  },
  {
   "cell_type": "code",
   "execution_count": 23,
   "id": "c89f6e5a",
   "metadata": {},
   "outputs": [
    {
     "data": {
      "text/plain": [
       "55015"
      ]
     },
     "execution_count": 23,
     "metadata": {},
     "output_type": "execute_result"
    }
   ],
   "source": [
    "# Too many tokens, I'm allowed about 10% of the entire training dataset based on the current limit\n",
    "int(len(data['train']) * 0.1)"
   ]
  },
  {
   "cell_type": "code",
   "execution_count": 26,
   "id": "8df75177",
   "metadata": {},
   "outputs": [
    {
     "name": "stderr",
     "output_type": "stream",
     "text": [
      "Loading cached shuffled indices for dataset at /home/x/.cache/huggingface/datasets/snli/plain_text/1.0.0/1f60b67533b65ae0275561ff7828aad5ee4282d0e6f844fd148d05d3c6ea251b/cache-81adece7851b63ef.arrow\n"
     ]
    },
    {
     "data": {
      "text/plain": [
       "Dataset({\n",
       "    features: ['premise', 'hypothesis', 'label'],\n",
       "    num_rows: 55015\n",
       "})"
      ]
     },
     "execution_count": 26,
     "metadata": {},
     "output_type": "execute_result"
    }
   ],
   "source": [
    "sample_data = data['train'].shuffle().select([i for i in range(55015)])\n",
    "sample_data"
   ]
  },
  {
   "cell_type": "code",
   "execution_count": 27,
   "id": "97f4706d",
   "metadata": {},
   "outputs": [
    {
     "data": {
      "text/plain": [
       "<File file id=file-pD1lpBznzyfCVq8U8rOV58RE at 0x7f1fda16e270> JSON: {\n",
       "  \"bytes\": 9805852,\n",
       "  \"created_at\": 1638410623,\n",
       "  \"filename\": \"snli_finetune_train_sample.jsonl\",\n",
       "  \"id\": \"file-pD1lpBznzyfCVq8U8rOV58RE\",\n",
       "  \"object\": \"file\",\n",
       "  \"purpose\": \"fine-tune\",\n",
       "  \"status\": \"uploaded\",\n",
       "  \"status_details\": null\n",
       "}"
      ]
     },
     "execution_count": 27,
     "metadata": {},
     "output_type": "execute_result"
    }
   ],
   "source": [
    "build_jsonl(sample_data, 'snli_finetune_train_sample.jsonl')\n",
    "openai.File.create(file=open(\"snli_finetune_train_sample.jsonl\"), purpose=\"fine-tune\")"
   ]
  },
  {
   "cell_type": "code",
   "execution_count": 28,
   "id": "e034f39e",
   "metadata": {},
   "outputs": [
    {
     "data": {
      "text/plain": [
       "<FineTune fine-tune id=ft-liaJqXchRH2a0b7InmAZuvEG at 0x7f1fda0caf90> JSON: {\n",
       "  \"created_at\": 1638410655,\n",
       "  \"events\": [\n",
       "    {\n",
       "      \"created_at\": 1638410655,\n",
       "      \"level\": \"info\",\n",
       "      \"message\": \"Created fine-tune: ft-liaJqXchRH2a0b7InmAZuvEG\",\n",
       "      \"object\": \"fine-tune-event\"\n",
       "    }\n",
       "  ],\n",
       "  \"fine_tuned_model\": null,\n",
       "  \"hyperparams\": {\n",
       "    \"batch_size\": null,\n",
       "    \"classification_n_classes\": 3,\n",
       "    \"compute_classification_metrics\": true,\n",
       "    \"learning_rate_multiplier\": null,\n",
       "    \"n_epochs\": 4,\n",
       "    \"prompt_loss_weight\": 0.1,\n",
       "    \"use_packing\": null\n",
       "  },\n",
       "  \"id\": \"ft-liaJqXchRH2a0b7InmAZuvEG\",\n",
       "  \"model\": \"curie\",\n",
       "  \"object\": \"fine-tune\",\n",
       "  \"organization_id\": \"org-5AE307Eg4rc5EAoEA2S2bwkH\",\n",
       "  \"result_files\": [],\n",
       "  \"status\": \"pending\",\n",
       "  \"training_files\": [\n",
       "    {\n",
       "      \"bytes\": 9805852,\n",
       "      \"created_at\": 1638410623,\n",
       "      \"filename\": \"snli_finetune_train_sample.jsonl\",\n",
       "      \"id\": \"file-pD1lpBznzyfCVq8U8rOV58RE\",\n",
       "      \"object\": \"file\",\n",
       "      \"purpose\": \"fine-tune\",\n",
       "      \"status\": \"processed\",\n",
       "      \"status_details\": null\n",
       "    }\n",
       "  ],\n",
       "  \"updated_at\": 1638410655,\n",
       "  \"validation_files\": [\n",
       "    {\n",
       "      \"bytes\": 1822513,\n",
       "      \"created_at\": 1638409667,\n",
       "      \"filename\": \"snli_finetune_validation.jsonl\",\n",
       "      \"id\": \"file-QC8NTdPW56lhbaDtuxvofGLj\",\n",
       "      \"object\": \"file\",\n",
       "      \"purpose\": \"fine-tune\",\n",
       "      \"status\": \"processed\",\n",
       "      \"status_details\": null\n",
       "    }\n",
       "  ]\n",
       "}"
      ]
     },
     "execution_count": 28,
     "metadata": {},
     "output_type": "execute_result"
    }
   ],
   "source": [
    "# Try creating a fine tune with smaller dataset\n",
    "openai.FineTune.create(\n",
    "    training_file=\"file-pD1lpBznzyfCVq8U8rOV58RE\",\n",
    "    validation_file=\"file-QC8NTdPW56lhbaDtuxvofGLj\",\n",
    "    model=\"curie\",\n",
    "    n_epochs=4, # default\n",
    "    compute_classification_metrics=True,\n",
    "    classification_n_classes=3\n",
    ")"
   ]
  },
  {
   "cell_type": "code",
   "execution_count": 29,
   "id": "7053d75f",
   "metadata": {},
   "outputs": [
    {
     "data": {
      "text/plain": [
       "<OpenAIObject list at 0x7f1fda351450> JSON: {\n",
       "  \"data\": [\n",
       "    {\n",
       "      \"created_at\": 1638409797,\n",
       "      \"fine_tuned_model\": null,\n",
       "      \"hyperparams\": {\n",
       "        \"batch_size\": null,\n",
       "        \"classification_n_classes\": 3,\n",
       "        \"compute_classification_metrics\": true,\n",
       "        \"learning_rate_multiplier\": null,\n",
       "        \"n_epochs\": 4,\n",
       "        \"prompt_loss_weight\": 0.1,\n",
       "        \"use_packing\": null\n",
       "      },\n",
       "      \"id\": \"ft-dUn3kTdJRe33NcVQlngm2L1n\",\n",
       "      \"model\": \"curie\",\n",
       "      \"object\": \"fine-tune\",\n",
       "      \"organization_id\": \"org-5AE307Eg4rc5EAoEA2S2bwkH\",\n",
       "      \"result_files\": [],\n",
       "      \"status\": \"failed\",\n",
       "      \"training_files\": [\n",
       "        {\n",
       "          \"bytes\": 98207620,\n",
       "          \"created_at\": 1638409664,\n",
       "          \"filename\": \"snli_finetune_train.jsonl\",\n",
       "          \"id\": \"file-zESrbwb1mh3p2OjVzhcsKmH4\",\n",
       "          \"object\": \"file\",\n",
       "          \"purpose\": \"fine-tune\",\n",
       "          \"status\": \"error\",\n",
       "          \"status_details\": \"The file contains 20821169 tokens and exceeds our 3000000 token limit. Please contact finetuning@openai.com and tell us about your use-case if you would like this limit increased.\"\n",
       "        }\n",
       "      ],\n",
       "      \"updated_at\": 1638409803,\n",
       "      \"validation_files\": [\n",
       "        {\n",
       "          \"bytes\": 1822513,\n",
       "          \"created_at\": 1638409667,\n",
       "          \"filename\": \"snli_finetune_validation.jsonl\",\n",
       "          \"id\": \"file-QC8NTdPW56lhbaDtuxvofGLj\",\n",
       "          \"object\": \"file\",\n",
       "          \"purpose\": \"fine-tune\",\n",
       "          \"status\": \"processed\",\n",
       "          \"status_details\": null\n",
       "        }\n",
       "      ]\n",
       "    },\n",
       "    {\n",
       "      \"created_at\": 1638410655,\n",
       "      \"fine_tuned_model\": null,\n",
       "      \"hyperparams\": {\n",
       "        \"batch_size\": 2,\n",
       "        \"classification_n_classes\": 3,\n",
       "        \"compute_classification_metrics\": true,\n",
       "        \"learning_rate_multiplier\": 0.2,\n",
       "        \"n_epochs\": 4,\n",
       "        \"prompt_loss_weight\": 0.1,\n",
       "        \"use_packing\": true\n",
       "      },\n",
       "      \"id\": \"ft-liaJqXchRH2a0b7InmAZuvEG\",\n",
       "      \"model\": \"curie\",\n",
       "      \"object\": \"fine-tune\",\n",
       "      \"organization_id\": \"org-5AE307Eg4rc5EAoEA2S2bwkH\",\n",
       "      \"result_files\": [],\n",
       "      \"status\": \"running\",\n",
       "      \"training_files\": [\n",
       "        {\n",
       "          \"bytes\": 9805852,\n",
       "          \"created_at\": 1638410623,\n",
       "          \"filename\": \"snli_finetune_train_sample.jsonl\",\n",
       "          \"id\": \"file-pD1lpBznzyfCVq8U8rOV58RE\",\n",
       "          \"object\": \"file\",\n",
       "          \"purpose\": \"fine-tune\",\n",
       "          \"status\": \"processed\",\n",
       "          \"status_details\": null\n",
       "        }\n",
       "      ],\n",
       "      \"updated_at\": 1638410664,\n",
       "      \"validation_files\": [\n",
       "        {\n",
       "          \"bytes\": 1822513,\n",
       "          \"created_at\": 1638409667,\n",
       "          \"filename\": \"snli_finetune_validation.jsonl\",\n",
       "          \"id\": \"file-QC8NTdPW56lhbaDtuxvofGLj\",\n",
       "          \"object\": \"file\",\n",
       "          \"purpose\": \"fine-tune\",\n",
       "          \"status\": \"processed\",\n",
       "          \"status_details\": null\n",
       "        }\n",
       "      ]\n",
       "    }\n",
       "  ],\n",
       "  \"object\": \"list\"\n",
       "}"
      ]
     },
     "execution_count": 29,
     "metadata": {},
     "output_type": "execute_result"
    }
   ],
   "source": [
    "openai.FineTune.list()"
   ]
  },
  {
   "cell_type": "code",
   "execution_count": 36,
   "id": "04d5ac9e",
   "metadata": {},
   "outputs": [
    {
     "data": {
      "text/plain": [
       "<FineTune fine-tune id=ft-liaJqXchRH2a0b7InmAZuvEG at 0x7f1fda0ceb80> JSON: {\n",
       "  \"created_at\": 1638410655,\n",
       "  \"events\": [\n",
       "    {\n",
       "      \"created_at\": 1638410655,\n",
       "      \"level\": \"info\",\n",
       "      \"message\": \"Created fine-tune: ft-liaJqXchRH2a0b7InmAZuvEG\",\n",
       "      \"object\": \"fine-tune-event\"\n",
       "    },\n",
       "    {\n",
       "      \"created_at\": 1638410659,\n",
       "      \"level\": \"info\",\n",
       "      \"message\": \"Fine-tune enqueued. Queue number: 0\",\n",
       "      \"object\": \"fine-tune-event\"\n",
       "    },\n",
       "    {\n",
       "      \"created_at\": 1638410663,\n",
       "      \"level\": \"info\",\n",
       "      \"message\": \"Fine-tune started\",\n",
       "      \"object\": \"fine-tune-event\"\n",
       "    }\n",
       "  ],\n",
       "  \"fine_tuned_model\": null,\n",
       "  \"hyperparams\": {\n",
       "    \"batch_size\": 2,\n",
       "    \"classification_n_classes\": 3,\n",
       "    \"compute_classification_metrics\": true,\n",
       "    \"learning_rate_multiplier\": 0.2,\n",
       "    \"n_epochs\": 4,\n",
       "    \"prompt_loss_weight\": 0.1,\n",
       "    \"use_packing\": true\n",
       "  },\n",
       "  \"id\": \"ft-liaJqXchRH2a0b7InmAZuvEG\",\n",
       "  \"model\": \"curie\",\n",
       "  \"object\": \"fine-tune\",\n",
       "  \"organization_id\": \"org-5AE307Eg4rc5EAoEA2S2bwkH\",\n",
       "  \"result_files\": [],\n",
       "  \"status\": \"running\",\n",
       "  \"training_files\": [\n",
       "    {\n",
       "      \"bytes\": 9805852,\n",
       "      \"created_at\": 1638410623,\n",
       "      \"filename\": \"snli_finetune_train_sample.jsonl\",\n",
       "      \"id\": \"file-pD1lpBznzyfCVq8U8rOV58RE\",\n",
       "      \"object\": \"file\",\n",
       "      \"purpose\": \"fine-tune\",\n",
       "      \"status\": \"processed\",\n",
       "      \"status_details\": null\n",
       "    }\n",
       "  ],\n",
       "  \"updated_at\": 1638410664,\n",
       "  \"validation_files\": [\n",
       "    {\n",
       "      \"bytes\": 1822513,\n",
       "      \"created_at\": 1638409667,\n",
       "      \"filename\": \"snli_finetune_validation.jsonl\",\n",
       "      \"id\": \"file-QC8NTdPW56lhbaDtuxvofGLj\",\n",
       "      \"object\": \"file\",\n",
       "      \"purpose\": \"fine-tune\",\n",
       "      \"status\": \"processed\",\n",
       "      \"status_details\": null\n",
       "    }\n",
       "  ]\n",
       "}"
      ]
     },
     "execution_count": 36,
     "metadata": {},
     "output_type": "execute_result"
    }
   ],
   "source": [
    "openai.FineTune.retrieve('ft-liaJqXchRH2a0b7InmAZuvEG')"
   ]
  },
  {
   "cell_type": "code",
   "execution_count": 41,
   "id": "a54d2315",
   "metadata": {},
   "outputs": [
    {
     "data": {
      "text/plain": [
       "<OpenAIObject list at 0x7f1fda0ceef0> JSON: {\n",
       "  \"data\": [\n",
       "    {\n",
       "      \"created_at\": 1638410655,\n",
       "      \"level\": \"info\",\n",
       "      \"message\": \"Created fine-tune: ft-liaJqXchRH2a0b7InmAZuvEG\",\n",
       "      \"object\": \"fine-tune-event\"\n",
       "    },\n",
       "    {\n",
       "      \"created_at\": 1638410659,\n",
       "      \"level\": \"info\",\n",
       "      \"message\": \"Fine-tune enqueued. Queue number: 0\",\n",
       "      \"object\": \"fine-tune-event\"\n",
       "    },\n",
       "    {\n",
       "      \"created_at\": 1638410663,\n",
       "      \"level\": \"info\",\n",
       "      \"message\": \"Fine-tune started\",\n",
       "      \"object\": \"fine-tune-event\"\n",
       "    },\n",
       "    {\n",
       "      \"created_at\": 1638411178,\n",
       "      \"level\": \"info\",\n",
       "      \"message\": \"Completed epoch 1/4\",\n",
       "      \"object\": \"fine-tune-event\"\n",
       "    }\n",
       "  ],\n",
       "  \"object\": \"list\"\n",
       "}"
      ]
     },
     "execution_count": 41,
     "metadata": {},
     "output_type": "execute_result"
    }
   ],
   "source": [
    "openai.FineTune.list_events('ft-liaJqXchRH2a0b7InmAZuvEG')"
   ]
  },
  {
   "cell_type": "code",
   "execution_count": null,
   "id": "9d9351c0",
   "metadata": {},
   "outputs": [],
   "source": []
  }
 ],
 "metadata": {
  "kernelspec": {
   "display_name": "Python 3 (ipykernel)",
   "language": "python",
   "name": "python3"
  },
  "language_info": {
   "codemirror_mode": {
    "name": "ipython",
    "version": 3
   },
   "file_extension": ".py",
   "mimetype": "text/x-python",
   "name": "python",
   "nbconvert_exporter": "python",
   "pygments_lexer": "ipython3",
   "version": "3.9.5"
  }
 },
 "nbformat": 4,
 "nbformat_minor": 5
}
